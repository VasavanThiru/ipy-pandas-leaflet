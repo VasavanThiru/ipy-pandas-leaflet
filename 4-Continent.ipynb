{
 "cells": [
  {
   "cell_type": "markdown",
   "metadata": {},
   "source": [
    "# Continent"
   ]
  },
  {
   "cell_type": "markdown",
   "metadata": {},
   "source": [
    "Example of African continent"
   ]
  },
  {
   "cell_type": "code",
   "execution_count": 1,
   "metadata": {},
   "outputs": [],
   "source": [
    "import pandas as pd\n",
    "import geopandas\n",
    "import ipyleaflet\n",
    "import shapely"
   ]
  },
  {
   "cell_type": "code",
   "execution_count": 2,
   "metadata": {},
   "outputs": [],
   "source": [
    "from ipyleaflet import Map, Polygon"
   ]
  },
  {
   "cell_type": "code",
   "execution_count": 5,
   "metadata": {},
   "outputs": [
    {
     "data": {
      "text/html": [
       "<div>\n",
       "<style scoped>\n",
       "    .dataframe tbody tr th:only-of-type {\n",
       "        vertical-align: middle;\n",
       "    }\n",
       "\n",
       "    .dataframe tbody tr th {\n",
       "        vertical-align: top;\n",
       "    }\n",
       "\n",
       "    .dataframe thead th {\n",
       "        text-align: right;\n",
       "    }\n",
       "</style>\n",
       "<table border=\"1\" class=\"dataframe\">\n",
       "  <thead>\n",
       "    <tr style=\"text-align: right;\">\n",
       "      <th></th>\n",
       "      <th>iso_a3</th>\n",
       "      <th>name</th>\n",
       "      <th>continent</th>\n",
       "      <th>pop_est</th>\n",
       "      <th>gdp_md_est</th>\n",
       "      <th>geometry</th>\n",
       "    </tr>\n",
       "  </thead>\n",
       "  <tbody>\n",
       "    <tr>\n",
       "      <th>1</th>\n",
       "      <td>AGO</td>\n",
       "      <td>Angola</td>\n",
       "      <td>Africa</td>\n",
       "      <td>29310273.0</td>\n",
       "      <td>189000.0</td>\n",
       "      <td>(POLYGON ((23.90415368011818 -11.7222815894063...</td>\n",
       "    </tr>\n",
       "    <tr>\n",
       "      <th>11</th>\n",
       "      <td>BDI</td>\n",
       "      <td>Burundi</td>\n",
       "      <td>Africa</td>\n",
       "      <td>11466756.0</td>\n",
       "      <td>7892.0</td>\n",
       "      <td>POLYGON ((29.33999759290035 -4.499983412294092...</td>\n",
       "    </tr>\n",
       "    <tr>\n",
       "      <th>13</th>\n",
       "      <td>BEN</td>\n",
       "      <td>Benin</td>\n",
       "      <td>Africa</td>\n",
       "      <td>11038805.0</td>\n",
       "      <td>24310.0</td>\n",
       "      <td>POLYGON ((2.691701694356254 6.258817246928629,...</td>\n",
       "    </tr>\n",
       "    <tr>\n",
       "      <th>14</th>\n",
       "      <td>BFA</td>\n",
       "      <td>Burkina Faso</td>\n",
       "      <td>Africa</td>\n",
       "      <td>20107509.0</td>\n",
       "      <td>32990.0</td>\n",
       "      <td>POLYGON ((2.154473504249921 11.94015005131334,...</td>\n",
       "    </tr>\n",
       "    <tr>\n",
       "      <th>25</th>\n",
       "      <td>BWA</td>\n",
       "      <td>Botswana</td>\n",
       "      <td>Africa</td>\n",
       "      <td>2214858.0</td>\n",
       "      <td>35900.0</td>\n",
       "      <td>POLYGON ((29.43218834810904 -22.09131275806759...</td>\n",
       "    </tr>\n",
       "  </tbody>\n",
       "</table>\n",
       "</div>"
      ],
      "text/plain": [
       "   iso_a3          name continent     pop_est  gdp_md_est  \\\n",
       "1     AGO        Angola    Africa  29310273.0    189000.0   \n",
       "11    BDI       Burundi    Africa  11466756.0      7892.0   \n",
       "13    BEN         Benin    Africa  11038805.0     24310.0   \n",
       "14    BFA  Burkina Faso    Africa  20107509.0     32990.0   \n",
       "25    BWA      Botswana    Africa   2214858.0     35900.0   \n",
       "\n",
       "                                             geometry  \n",
       "1   (POLYGON ((23.90415368011818 -11.7222815894063...  \n",
       "11  POLYGON ((29.33999759290035 -4.499983412294092...  \n",
       "13  POLYGON ((2.691701694356254 6.258817246928629,...  \n",
       "14  POLYGON ((2.154473504249921 11.94015005131334,...  \n",
       "25  POLYGON ((29.43218834810904 -22.09131275806759...  "
      ]
     },
     "execution_count": 5,
     "metadata": {},
     "output_type": "execute_result"
    }
   ],
   "source": [
    "countries = geopandas.read_file(\"zip://./data/ne_110m_admin_0_countries.zip\")\n",
    "africa_countries = countries[countries['continent'] == 'Africa']\n",
    "africa_countries.head()"
   ]
  },
  {
   "cell_type": "code",
   "execution_count": 11,
   "metadata": {},
   "outputs": [
    {
     "data": {
      "application/vnd.jupyter.widget-view+json": {
       "model_id": "96e6cbd8c7854a23bfbba2ce970afec7",
       "version_major": 2,
       "version_minor": 0
      },
      "text/plain": [
       "Map(basemap={'url': 'https://{s}.tile.openstreetmap.org/{z}/{x}/{y}.png', 'max_zoom': 19, 'attribution': 'Map …"
      ]
     },
     "metadata": {},
     "output_type": "display_data"
    }
   ],
   "source": [
    "def view_countries(countries):\n",
    "    m = Map(center=(4.5531, 0.6914), zoom=2)\n",
    "    cg = countries.geometry\n",
    "    for i in countries.index:          \n",
    "        if cg[i].__class__ == shapely.geometry.polygon.Polygon:\n",
    "            count_ext = cg[i].exterior.coords\n",
    "            polygon = Polygon(locations=[c[::-1] for c in count_ext[:]], weight = 1 ,color=\"black\", fill_color=\"yellow\")\n",
    "            m.add_layer(polygon)\n",
    "        else:\n",
    "            Mpolygon = Polygon(locations=[[c[::-1] for c in cg[i][k].exterior.coords[:]] for k in range(len(cg[i]))], weight = 1, color=\"black\", fill_color=\"yellow\")\n",
    "            m.add_layer(Mpolygon)\n",
    "    return m\n",
    "\n",
    "view_countries(africa_countries)"
   ]
  },
  {
   "cell_type": "code",
   "execution_count": null,
   "metadata": {},
   "outputs": [],
   "source": []
  }
 ],
 "metadata": {
  "kernelspec": {
   "display_name": "Python 3",
   "language": "python",
   "name": "python3"
  },
  "language_info": {
   "codemirror_mode": {
    "name": "ipython",
    "version": 3
   },
   "file_extension": ".py",
   "mimetype": "text/x-python",
   "name": "python",
   "nbconvert_exporter": "python",
   "pygments_lexer": "ipython3",
   "version": "3.7.1"
  }
 },
 "nbformat": 4,
 "nbformat_minor": 2
}
