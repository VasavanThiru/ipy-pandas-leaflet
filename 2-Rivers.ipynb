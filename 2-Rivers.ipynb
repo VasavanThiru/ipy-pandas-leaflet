{
 "cells": [
  {
   "cell_type": "markdown",
   "metadata": {},
   "source": [
    "# Rivers"
   ]
  },
  {
   "cell_type": "code",
   "execution_count": 10,
   "metadata": {},
   "outputs": [],
   "source": [
    "import pandas as pd\n",
    "import geopandas\n",
    "import ipyleaflet\n",
    "import shapely"
   ]
  },
  {
   "cell_type": "code",
   "execution_count": 11,
   "metadata": {},
   "outputs": [],
   "source": [
    "from ipyleaflet import Map,Polyline"
   ]
  },
  {
   "cell_type": "code",
   "execution_count": 12,
   "metadata": {},
   "outputs": [
    {
     "data": {
      "text/html": [
       "<div>\n",
       "<style scoped>\n",
       "    .dataframe tbody tr th:only-of-type {\n",
       "        vertical-align: middle;\n",
       "    }\n",
       "\n",
       "    .dataframe tbody tr th {\n",
       "        vertical-align: top;\n",
       "    }\n",
       "\n",
       "    .dataframe thead th {\n",
       "        text-align: right;\n",
       "    }\n",
       "</style>\n",
       "<table border=\"1\" class=\"dataframe\">\n",
       "  <thead>\n",
       "    <tr style=\"text-align: right;\">\n",
       "      <th></th>\n",
       "      <th>featurecla</th>\n",
       "      <th>name</th>\n",
       "      <th>geometry</th>\n",
       "    </tr>\n",
       "  </thead>\n",
       "  <tbody>\n",
       "    <tr>\n",
       "      <th>0</th>\n",
       "      <td>Lake Centerline</td>\n",
       "      <td>Kama</td>\n",
       "      <td>LINESTRING (51.9371337598152 55.70106609892139...</td>\n",
       "    </tr>\n",
       "    <tr>\n",
       "      <th>1</th>\n",
       "      <td>River</td>\n",
       "      <td>Kama</td>\n",
       "      <td>LINESTRING (53.69384765584471 58.2063174502901...</td>\n",
       "    </tr>\n",
       "    <tr>\n",
       "      <th>2</th>\n",
       "      <td>Lake Centerline</td>\n",
       "      <td>Abay</td>\n",
       "      <td>LINESTRING (37.11301150887408 11.8549872909308...</td>\n",
       "    </tr>\n",
       "    <tr>\n",
       "      <th>3</th>\n",
       "      <td>Lake Centerline</td>\n",
       "      <td>Al Furat</td>\n",
       "      <td>LINESTRING (38.56119184742585 35.8626433379197...</td>\n",
       "    </tr>\n",
       "    <tr>\n",
       "      <th>4</th>\n",
       "      <td>Lake Centerline</td>\n",
       "      <td>Alabama</td>\n",
       "      <td>(LINESTRING (-86.52176754393696 33.03211843501...</td>\n",
       "    </tr>\n",
       "  </tbody>\n",
       "</table>\n",
       "</div>"
      ],
      "text/plain": [
       "        featurecla      name  \\\n",
       "0  Lake Centerline      Kama   \n",
       "1            River      Kama   \n",
       "2  Lake Centerline      Abay   \n",
       "3  Lake Centerline  Al Furat   \n",
       "4  Lake Centerline   Alabama   \n",
       "\n",
       "                                            geometry  \n",
       "0  LINESTRING (51.9371337598152 55.70106609892139...  \n",
       "1  LINESTRING (53.69384765584471 58.2063174502901...  \n",
       "2  LINESTRING (37.11301150887408 11.8549872909308...  \n",
       "3  LINESTRING (38.56119184742585 35.8626433379197...  \n",
       "4  (LINESTRING (-86.52176754393696 33.03211843501...  "
      ]
     },
     "execution_count": 12,
     "metadata": {},
     "output_type": "execute_result"
    }
   ],
   "source": [
    "rivers = geopandas.read_file(\"zip://./data/ne_50m_rivers_lake_centerlines.zip\")\n",
    "rivers.head()"
   ]
  },
  {
   "cell_type": "code",
   "execution_count": 14,
   "metadata": {},
   "outputs": [
    {
     "data": {
      "application/vnd.jupyter.widget-view+json": {
       "model_id": "d9de16504b414d4fa56fda0b6a5200fd",
       "version_major": 2,
       "version_minor": 0
      },
      "text/plain": [
       "Map(basemap={'url': 'https://{s}.tile.openstreetmap.org/{z}/{x}/{y}.png', 'max_zoom': 19, 'attribution': 'Map …"
      ]
     },
     "metadata": {},
     "output_type": "display_data"
    }
   ],
   "source": [
    "def view_rivers(rivers):\n",
    "    m = Map(center = (42.2, -48.6), zoom = 2)\n",
    "    rg = rivers.geometry\n",
    "    for i in rivers.index:\n",
    "        if rg[i].__class__== shapely.geometry.linestring.LineString:\n",
    "            rivers_coord = rg[i].coords[:]\n",
    "            polyline = Polyline(locations = [[t[::-1] for t in rivers_coord[:]]], weight= 1 , fill_opacity = 0, color = \"blue\", )\n",
    "            m.add_layer(polyline)\n",
    "        else:\n",
    "            polyline = Polyline(locations = [[t[::-1] for t in rivers.geometry[i][k].coords[:]]for k in range(len(rg[i]))], weight= 1 , fill_opacity = 0, color = \"red\", ) \n",
    "            m.add_layer(polyline)\n",
    "    return m \n",
    "\n",
    "view_rivers(rivers) "
   ]
  },
  {
   "cell_type": "code",
   "execution_count": null,
   "metadata": {},
   "outputs": [],
   "source": []
  }
 ],
 "metadata": {
  "kernelspec": {
   "display_name": "Python 3",
   "language": "python",
   "name": "python3"
  },
  "language_info": {
   "codemirror_mode": {
    "name": "ipython",
    "version": 3
   },
   "file_extension": ".py",
   "mimetype": "text/x-python",
   "name": "python",
   "nbconvert_exporter": "python",
   "pygments_lexer": "ipython3",
   "version": "3.7.1"
  }
 },
 "nbformat": 4,
 "nbformat_minor": 2
}
